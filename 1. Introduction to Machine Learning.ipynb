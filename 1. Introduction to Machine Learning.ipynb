{
 "cells": [
  {
   "cell_type": "markdown",
   "metadata": {},
   "source": [
    "# Introduction to Machine Learning"
   ]
  },
  {
   "cell_type": "markdown",
   "metadata": {},
   "source": [
    "## What is Machine Learning?"
   ]
  },
  {
   "attachments": {},
   "cell_type": "markdown",
   "metadata": {},
   "source": [
    "* Field of study that gives computers the ability to learn without being explicitly programmed - **Arthur Samuel, 1959**.\n",
    "    - Wrote a checkers playing program\n",
    "    - Program learned by observing board positions\n",
    "    \n",
    "\n",
     "![Image1](Images/Picture1.png)"
    "    \n",
    "    \n",
    "\n",
    "* Study of algorithms that improve their performance P at some task T with experience E - **Tom Mitchell, 1998**.\n",
    "    - A well-defined learning task is given by <P, T, E>.\n",
    "    - T: Playing checkers\n",
    "    - P: The number (or percentage) of games won\n",
    "    - E: Playing against oneself."
   ]
  },
  {
   "cell_type": "markdown",
   "metadata": {},
   "source": [
    "# Types of Machine Learning"
   ]
  },
  {
   "cell_type": "markdown",
   "metadata": {},
   "source": [
    "1. Supervised Learning\n",
    "2. Unsupervised Learning\n",
    "3. Reinforcement Learning"
   ]
  },
  {
   "attachments": {},
   "cell_type": "markdown",
   "metadata": {},
   "source": [
    "## 1. Supervised Learning\n",
    "\n",
    "- Task driven learning.\n",
    "- Making predictions using data.\n",
    "- Consider the *email spam detection* problem -- predicting whether an email is spam or not.\n",
    "\n",
    "\n",
    "\n",
    "- Given a dataset with *'right answers'*, an algorithm learns to produce predictions on never-before-seen data.\n",
    "\n",
    "- Examples: spam detection, fraud detection, housing price prediction, sentiment prediction, ..\n",
    "\n",
    "\n",
    "\n",
    "\n"
   ]
  },
  {
   "attachments": {},
   "cell_type": "markdown",
   "metadata": {},
   "source": [
    "## 2. Unsupervised Learning\n",
    "\n",
    "- Data driven learning\n",
    "- Extracting structure from data\n",
    "- Consider the problem of *market segmentation*.\n",
    "    - Given a dataset of characteristics and purchasing behaviour of shoppers \n",
    "    - Unsupervised Learning Task: Segment shoppers into groups or clusters exhibiting similar behaviour\n",
    "    - No right or wrongs about number of clusters that can be found, which shopper belongs to which cluster or how to describe a cluster.\n",
    "    \n",
    "\n",
    "(Image credit: Andrew Ng)\n",
    "    \n",
    "- Given an unlabeled dataset : an algorithm finds hidden structures in the data. \n"
   ]
  },
  {
   "attachments": {},
   "cell_type": "markdown",
   "metadata": {},
   "source": [
    "Examples of Unsupervised Learning:\n",
    "\n",
    "\n",
    "\n",
    "(Image credit: Andrew Ng)"
   ]
  },
  {
   "attachments": {},
   "cell_type": "markdown",
   "metadata": {},
   "source": [
    "## 3. Reinforcement Learning\n",
    "\n",
    "- Learning what to do and how to map **situations** to **actions**. \n",
    "- The **agent** is not told which action to take, but instead must discover which action will yield the maximum **reward (goal)**. The end result is to maximize the numerical reward signal. \n",
    "- Algorithm learns to react to an **environment**.\n",
    "- For instance: a toddler learning to walk, self driving cars,..\n",
    "\n",
    "\n"
   ]
  },
  {
   "attachments": {},
   "cell_type": "markdown",
   "metadata": {},
   "source": [
    "\n",
    "\n",
    "(Image Credit: Sutton & Barto)"
   ]
  },
  {
   "cell_type": "markdown",
   "metadata": {},
   "source": [
    "## Semi-supervised Learning\n",
    "\n",
    "- Yet another type of learning that practitioners use for real-world machine learning problems since it can be expensive and time-consuming to label all data, and difficult to work with unlabeled data.\n",
    "- Represent a middle ground between supervised and unsupervised ML algorithms. \n",
    "- Huge amount of input data and only some of it is labeled."
   ]
  }
 ],
 "metadata": {
  "kernelspec": {
   "display_name": "Python 3",
   "language": "python",
   "name": "python3"
  },
  "language_info": {
   "codemirror_mode": {
    "name": "ipython",
    "version": 3
   },
   "file_extension": ".py",
   "mimetype": "text/x-python",
   "name": "python",
   "nbconvert_exporter": "python",
   "pygments_lexer": "ipython3",
   "version": "3.7.3"
  }
 },
 "nbformat": 4,
 "nbformat_minor": 2
}
