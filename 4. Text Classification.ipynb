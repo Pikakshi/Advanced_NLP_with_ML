{
 "cells": [
  {
   "cell_type": "markdown",
   "metadata": {},
   "source": [
    "# Sentiment Classification\n",
    "\n",
    "A Machine Learning project has a series of well known steps:\n",
    "    - Define the problem\n",
    "    - Load data\n",
    "    - Evaluate Algorithms\n",
    "    - Make Predictions"
   ]
  },
  {
   "cell_type": "markdown",
   "metadata": {},
   "source": [
    "## 1. Defining the problem\n",
    "\n",
    "Given a labeled dataset with sentiment labels (*positive and negative*), the task is to learn a classifier which can be used to predict the labels of new unseen data.\n",
    "\n",
    "### Setting up the Python libraries"
   ]
  },
  {
   "cell_type": "code",
   "execution_count": 11,
   "metadata": {},
   "outputs": [],
   "source": [
    "import csv\n",
    "import nltk\n",
    "\n",
    "from sklearn.feature_extraction.text import CountVectorizer\n",
    "from sklearn.feature_extraction.text import TfidfTransformer\n",
    "from sklearn.naive_bayes import BernoulliNB\n",
    "from sklearn.tree import DecisionTreeClassifier\n",
    "from sklearn.linear_model import LogisticRegression\n",
    "from sklearn.metrics import classification_report\n",
    "import numpy as np\n",
    "from sklearn import metrics\n",
    "from sklearn.metrics import accuracy_score\n",
    "from sklearn.model_selection import train_test_split\n",
    "import pandas as pd\n",
    "\n",
    "#stopwords = nltk.corpus.stopwords.words('english')"
   ]
  },
  {
   "cell_type": "markdown",
   "metadata": {},
   "source": [
    "## 2. Loading Data\n",
    "\n",
    "___[sample_excath_labelled.csv](https://github.com/Pikakshi/Advanced_NLP_with_ML/blob/master/Datasets/sample_excath_labelled.csv) is a sample of a dataset that is currently being used for conducting Text Analytics in the [VISTA-AR project](https://www.vista-ar.eu/en/). This dataset is a sample of a collection of tourist reviews that have been collected from TripAdvisor for analysis of tourist experience at Exeter Cathedral.___\n",
    "\n",
    "- It contains two columns. First column is the review content and second column is the assigned sentiment (positive = 1 or negative = 0) which are assigned to *data* and *target* lists respectively."
   ]
  },
  {
   "cell_type": "code",
   "execution_count": 8,
   "metadata": {},
   "outputs": [],
   "source": [
    "def load_file():\n",
    "    with open('C:/Users/pm447/Downloads/VISTA-AR/Workshops/Workshop 2/Datasets/sample_excath_labelled.csv','r') as csv_file:\n",
    "        reader = csv.reader(csv_file,delimiter=\",\",quotechar='\"')\n",
    "       # reader.next()\n",
    "        data =[]\n",
    "        target = []\n",
    "        for row in reader:\n",
    "            # skip missing data\n",
    "            if row[0] and row[1]:\n",
    "                data.append(row[0])\n",
    "                target.append(row[1])\n",
    "\n",
    "        return data,target"
   ]
  },
  {
   "cell_type": "markdown",
   "metadata": {},
   "source": [
    "### Feature Engineering using Word Count Vectors\n",
    "\n",
    "- TF-IDF value increases proportionally to the number of times a word appears in the document and is offset by the number of documents in the corpus that contain the word, which helps to adjust for the fact that some words appear more frequently in general.\n",
    "- It also takes into account the fact that some documents may be larger than others by normalizing the TF term (expressing instead relative term frequencies).\n",
    "- For details on how to generate Tf-Idf Vectors or Count Vectors, refer to this [notebook](https://github.com/Pikakshi/NLP_Introduction/blob/master/advancedProcessing.ipynb)."
   ]
  },
  {
   "cell_type": "code",
   "execution_count": 9,
   "metadata": {},
   "outputs": [],
   "source": [
    "# preprocess creates the term frequency matrix for the review data set\n",
    "def preprocess():\n",
    "    data,target = load_file()\n",
    "    count_vectorizer = CountVectorizer(binary='true')\n",
    "    data = count_vectorizer.fit_transform(data)\n",
    "    tfidf_data = TfidfTransformer(use_idf=False,).fit_transform(data) #transforms the count matrix to a normalized tf representation\n",
    "    \n",
    "    return tfidf_data"
   ]
  },
  {
   "cell_type": "markdown",
   "metadata": {},
   "source": [
    "### Model Building"
   ]
  },
  {
   "cell_type": "code",
   "execution_count": 14,
   "metadata": {},
   "outputs": [],
   "source": [
    "def learn_model(data,target):\n",
    "    # preparing data for split validation. 60% training, 40% test\n",
    "    data_train,data_test,target_train,target_test = train_test_split(data,target,test_size=0.4,random_state=43)\n",
    "    #classifier = BernoulliNB().fit(data_train,target_train)  #training on available data\n",
    "    classifier = DecisionTreeClassifier(max_depth = 2, random_state = 0).fit(data_train,target_train)\n",
    "    #classifier = LogisticRegression().fit(data_train,target_train)\n",
    "    predicted = classifier.predict(data_test)\n",
    "    evaluate_model(target_test,predicted)  "
   ]
  },
  {
   "cell_type": "markdown",
   "metadata": {},
   "source": [
    "## 3. Evaluate Model and Generate Test Results"
   ]
  },
  {
   "cell_type": "code",
   "execution_count": 6,
   "metadata": {},
   "outputs": [],
   "source": [
    "import matplotlib.pyplot as plt\n",
    "def evaluate_model(target_true,target_predicted):\n",
    "    print (classification_report(target_true,target_predicted))  #evaluate model \n",
    "    print (\"The accuracy score is {:.2%}\".format(accuracy_score(target_true,target_predicted)))\n",
    "    confusion_matrix_result = metrics.confusion_matrix(target_true,target_predicted)\n",
    "    \n",
    "    classes = [\"Negatives\", \"Positives\"]\n",
    "\n",
    "    plt.figure()\n",
    "    plt.imshow(confusion_matrix_result, interpolation='nearest', cmap=plt.cm.Wistia)\n",
    "    plt.title(\"Confusion Matrix - Sentiment Analysis\")\n",
    "    plt.colorbar()\n",
    "    tick_marks = np.arange(len(classes))\n",
    "    plt.xticks(tick_marks, classes, rotation=45)\n",
    "    plt.yticks(tick_marks, classes)\n",
    "\n",
    "    s = [['TN','FP'], ['FN', 'TP']]\n",
    "    for i in range(2):\n",
    "        for j in range(2):\n",
    "            plt.text(j,i, str(s[i][j])+\" = \"+str(confusion_matrix_result[i][j]))\n",
    "    plt.show()\n",
    "    \n",
    "    true_negatives = confusion_matrix_result[0][0]\n",
    "    false_negatives = confusion_matrix_result[1][0]\n",
    "    false_positives = confusion_matrix_result[0][1]\n",
    "    true_positives = confusion_matrix_result[1][1]\n",
    "\n",
    "    accuracy = (true_positives + true_negatives) / (true_positives + true_negatives + false_positives + false_negatives)\n",
    "    precision = true_positives / (true_positives + false_positives)\n",
    "    recall = true_positives / (true_positives + false_negatives)\n",
    "    f1_score = 2*(recall * precision) / (recall + precision)\n",
    "\n",
    "    print('Precision:',precision)\n",
    "    print('Recall:',recall)\n",
    "    print('F1 Score:',f1_score)"
   ]
  },
  {
   "cell_type": "code",
   "execution_count": 15,
   "metadata": {},
   "outputs": [
    {
     "name": "stdout",
     "output_type": "stream",
     "text": [
      "              precision    recall  f1-score   support\n",
      "\n",
      "           0       0.86      0.33      0.48        18\n",
      "           1       0.66      0.96      0.78        24\n",
      "\n",
      "    accuracy                           0.69        42\n",
      "   macro avg       0.76      0.65      0.63        42\n",
      "weighted avg       0.74      0.69      0.65        42\n",
      "\n",
      "The accuracy score is 69.05%\n"
     ]
    },
    {
     "data": {
      "image/png": "[encoded data removed]",
      "text/plain": [
       "<Figure size 432x288 with 2 Axes>"
      ]
     },
     "metadata": {
      "needs_background": "light"
     },
     "output_type": "display_data"
    },
    {
     "name": "stdout",
     "output_type": "stream",
     "text": [
      "Precision: 0.6571428571428571\n",
      "Recall: 0.9583333333333334\n",
      "F1 Score: 0.7796610169491525\n"
     ]
    }
   ],
   "source": [
    "def main():\n",
    "    data,target = load_file()\n",
    "    tf_idf = preprocess()\n",
    "    learn_model(tf_idf,target)\n",
    "\n",
    "main()"
   ]
  }
 ],
 "metadata": {
  "kernelspec": {
   "display_name": "Python 3",
   "language": "python",
   "name": "python3"
  },
  "language_info": {
   "codemirror_mode": {
    "name": "ipython",
    "version": 3
   },
   "file_extension": ".py",
   "mimetype": "text/x-python",
   "name": "python",
   "nbconvert_exporter": "python",
   "pygments_lexer": "ipython3",
   "version": "3.7.3"
  }
 },
 "nbformat": 4,
 "nbformat_minor": 2
}
